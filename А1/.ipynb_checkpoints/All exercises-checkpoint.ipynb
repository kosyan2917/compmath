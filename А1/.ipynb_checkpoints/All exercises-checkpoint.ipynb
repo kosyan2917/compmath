{
 "cells": [
  {
   "cell_type": "code",
   "execution_count": 2,
   "id": "623089dc",
   "metadata": {},
   "outputs": [],
   "source": [
    "import numpy as np"
   ]
  },
  {
   "cell_type": "markdown",
   "id": "1e05fce0",
   "metadata": {},
   "source": [
    "# Упражнение 1"
   ]
  },
  {
   "cell_type": "markdown",
   "id": "5a2f1d7c",
   "metadata": {},
   "source": [
    "1"
   ]
  },
  {
   "cell_type": "code",
   "execution_count": 15,
   "id": "77866599",
   "metadata": {},
   "outputs": [
    {
     "name": "stdout",
     "output_type": "stream",
     "text": [
      "[[1 2 3]\n",
      " [3 3 4]\n",
      " [5 6 3]\n",
      " [3 7 8]]\n"
     ]
    }
   ],
   "source": [
    "a = np.matrix('1 2 3;3 3 4')\n",
    "b = np.matrix('5 6 3;3 7 8')\n",
    "a_b = np.vstack((a,b))\n",
    "print(a_b)"
   ]
  },
  {
   "cell_type": "markdown",
   "id": "fdcf3637",
   "metadata": {},
   "source": [
    "2"
   ]
  },
  {
   "cell_type": "code",
   "execution_count": null,
   "id": "81bc0f3d",
   "metadata": {},
   "outputs": [],
   "source": []
  }
 ],
 "metadata": {
  "kernelspec": {
   "display_name": "PyCharm (Laba1.1)",
   "language": "python",
   "name": "pycharm-16ae13ca"
  },
  "language_info": {
   "codemirror_mode": {
    "name": "ipython",
    "version": 3
   },
   "file_extension": ".py",
   "mimetype": "text/x-python",
   "name": "python",
   "nbconvert_exporter": "python",
   "pygments_lexer": "ipython3",
   "version": "3.9.6"
  }
 },
 "nbformat": 4,
 "nbformat_minor": 5
}
