{
 "cells": [
  {
   "cell_type": "code",
   "execution_count": 3,
   "id": "f24e66b5",
   "metadata": {},
   "outputs": [],
   "source": [
    "import numpy as np\n",
    "import matplotlib.pyplot as plt\n",
    "import time as tm"
   ]
  },
  {
   "cell_type": "markdown",
   "id": "edde30a4",
   "metadata": {},
   "source": [
    "# Упражнение 1"
   ]
  },
  {
   "cell_type": "markdown",
   "id": "6fa45f3d",
   "metadata": {},
   "source": [
    "1"
   ]
  },
  {
   "cell_type": "code",
   "execution_count": 19,
   "id": "7cb1b083",
   "metadata": {},
   "outputs": [
    {
     "name": "stdout",
     "output_type": "stream",
     "text": [
      "[[1 2 3 5 6 3]\n",
      " [3 3 4 3 7 8]]\n"
     ]
    }
   ],
   "source": [
    "a = np.matrix([[1, 2, 3],[3, 3, 4]])\n",
    "b = np.matrix([[5, 6, 3],[3, 7 , 8]])\n",
    "a_b = np.hstack((a,b))\n",
    "print(a_b)"
   ]
  },
  {
   "cell_type": "markdown",
   "id": "11123682",
   "metadata": {},
   "source": [
    "2"
   ]
  },
  {
   "cell_type": "code",
   "execution_count": null,
   "id": "29cb67bd",
   "metadata": {},
   "outputs": [],
   "source": [
    "#Отложено"
   ]
  },
  {
   "cell_type": "code",
   "execution_count": 8,
   "id": "145eb543",
   "metadata": {},
   "outputs": [
    {
     "name": "stdout",
     "output_type": "stream",
     "text": [
      "[ 1  2  3  4  5  6  7  8  9 10 11 12 13 14 15 16 17 18 19 20 21 22 23 24\n",
      " 25 26 27 28 29 30 31 32 33 34 35 36 37 38 39 40 41 42 43 44 45 46 47 48\n",
      " 49 50 51 52 53 54 55 56 57 58 59 60 61 62 63 64 65 66 67 68 69 70 71 72\n",
      " 73 74 75 76 77 78 79 80 81 82 83 84 85 86 87 88 89 90 91 92 93 94 95 96\n",
      " 97 98 99]\n",
      "[  2   4   6   8  10  12  14  16  18  20  22  24  26  28  30  32  34  36\n",
      "  38  40  42  44  46  48  50  52  54  56  58  60  62  64  66  68  70  72\n",
      "  74  76  78  80  82  84  86  88  90  92  94  96  98 100 102 104 106 108\n",
      " 110 112 114 116 118 120 122 124 126 128 130 132 134 136 138 140 142 144\n",
      " 146 148 150 152 154 156 158 160 162 164 166 168 170 172 174 176 178 180\n",
      " 182 184 186 188 190 192 194 196 198]\n"
     ]
    }
   ],
   "source": [
    "def np_mult(N):\n",
    "    a=np.random.randint(-3, 3, (N,N))\n",
    "    b=np.random.randint(-3, 3, (N,N))\n",
    "    t1=tm.time()\n",
    "    c=np.dot(a,b)\n",
    "    t2=tm.time()\n",
    "    return t2-t1\n",
    "\n",
    "def for_mult(N):\n",
    "    print(N)\n",
    "    a=np.random.randint(-3, 3, (N,N))\n",
    "    b=np.random.randint(-3, 3, (N,N))\n",
    "    M=np.zeros((N, N))\n",
    "    t1=tm.time()\n",
    "    D = np.zeros((N, N))\n",
    "    for i in range(0, N):\n",
    "        for j in range(0, N):\n",
    "            for k in range(0, N):\n",
    "                D[i][j]+=A[i][k]*B[k][j]\n",
    "                t2=tm.time()\n",
    "    return t2-t1\n",
    "\n",
    "def x2(N):\n",
    "    print(N)\n",
    "    return 2*N\n",
    "\n",
    "x = np.arange(1,100)\n",
    "y = x2(x)\n",
    "print(y)\n"
   ]
  },
  {
   "cell_type": "code",
   "execution_count": 10,
   "id": "a48283cb",
   "metadata": {},
   "outputs": [
    {
     "name": "stdout",
     "output_type": "stream",
     "text": [
      "1\n"
     ]
    }
   ],
   "source": [
    "class NumpyArray:\n",
    "    \n",
    "    def __init__(self):\n",
    "        pass\n",
    "    \n",
    "    def __str__(self):\n",
    "        return '1'\n",
    "    \n",
    "def primer():\n",
    "    return 1,2\n",
    "    \n",
    "array = NumpyArray()\n",
    "str(array)\n",
    "a, b = primer()\n"
   ]
  }
 ],
 "metadata": {
  "kernelspec": {
   "display_name": "PyCharm (Laba1.1)",
   "language": "python",
   "name": "pycharm-16ae13ca"
  },
  "language_info": {
   "codemirror_mode": {
    "name": "ipython",
    "version": 3
   },
   "file_extension": ".py",
   "mimetype": "text/x-python",
   "name": "python",
   "nbconvert_exporter": "python",
   "pygments_lexer": "ipython3",
   "version": "3.9.6"
  }
 },
 "nbformat": 4,
 "nbformat_minor": 5
}
