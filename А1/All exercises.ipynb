{
 "cells": [
  {
   "cell_type": "code",
   "execution_count": 2,
   "id": "f24e66b5",
   "metadata": {},
   "outputs": [],
   "source": [
    "import numpy as np"
   ]
  },
  {
   "cell_type": "markdown",
   "id": "edde30a4",
   "metadata": {},
   "source": [
    "# Упражнение 1"
   ]
  },
  {
   "cell_type": "markdown",
   "id": "6fa45f3d",
   "metadata": {},
   "source": [
    "1"
   ]
  },
  {
   "cell_type": "code",
   "execution_count": 19,
   "id": "7cb1b083",
   "metadata": {},
   "outputs": [
    {
     "name": "stdout",
     "output_type": "stream",
     "text": [
      "[[1 2 3 5 6 3]\n",
      " [3 3 4 3 7 8]]\n"
     ]
    }
   ],
   "source": [
    "a = np.matrix([[1, 2, 3],[3, 3, 4]])\n",
    "b = np.matrix([[5, 6, 3],[3, 7 , 8]])\n",
    "a_b = np.hstack((a,b))\n",
    "print(a_b)"
   ]
  },
  {
   "cell_type": "markdown",
   "id": "11123682",
   "metadata": {},
   "source": [
    "2"
   ]
  },
  {
   "cell_type": "code",
   "execution_count": null,
   "id": "29cb67bd",
   "metadata": {},
   "outputs": [],
   "source": [
    "#Отложено"
   ]
  },
  {
   "cell_type": "code",
   "execution_count": null,
   "id": "145eb543",
   "metadata": {},
   "outputs": [],
   "source": [
    "3"
   ]
  }
 ],
 "metadata": {
  "kernelspec": {
   "display_name": "PyCharm (Laba1.1)",
   "language": "python",
   "name": "pycharm-16ae13ca"
  },
  "language_info": {
   "codemirror_mode": {
    "name": "ipython",
    "version": 3
   },
   "file_extension": ".py",
   "mimetype": "text/x-python",
   "name": "python",
   "nbconvert_exporter": "python",
   "pygments_lexer": "ipython3",
   "version": "3.9.6"
  }
 },
 "nbformat": 4,
 "nbformat_minor": 5
}
