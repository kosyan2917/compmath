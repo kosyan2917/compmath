{
  "nbformat": 4,
  "nbformat_minor": 0,
  "metadata": {
    "colab": {
      "name": "Lab51.ipynb",
      "provenance": []
    },
    "kernelspec": {
      "name": "python3",
      "display_name": "Python 3"
    },
    "language_info": {
      "name": "python"
    }
  },
  "cells": [
    {
      "cell_type": "code",
      "metadata": {
        "id": "pdeponn6Fkye"
      },
      "source": [
        "import numpy as np\n",
        "import matplotlib.pyplot as plt\n",
        "import scipy as spa"
      ],
      "execution_count": 2,
      "outputs": []
    },
    {
      "cell_type": "markdown",
      "metadata": {
        "id": "Bgyk0KPGF66X"
      },
      "source": [
        "Фон"
      ]
    },
    {
      "cell_type": "code",
      "metadata": {
        "id": "onkYfWJ-F0yr"
      },
      "source": [
        "N = 10000 # Число отсчетов в фоне\n",
        "Tbg = 821 # Время счета фона\n",
        "t = 100 # Время счета. Если у вас было все время разное, придется менять все под себя"
      ],
      "execution_count": 3,
      "outputs": []
    },
    {
      "cell_type": "markdown",
      "metadata": {
        "id": "WY5BLUrH_hqz"
      },
      "source": [
        "Алюминий"
      ]
    },
    {
      "cell_type": "code",
      "metadata": {
        "id": "lMCMvfpaCK2n"
      },
      "source": [
        "na = np.array([635166, 401035, 260674, 172165, 113487]) # Отсчеты при 1,2,3,4,5 пластинах алюминия соответсвенно. В блоках ниже то же самое\n",
        "la = np.array([1.99, 3.99, 5.97, 7.99, 9.99]) # Суммарная толщина пластин алюминия"
      ],
      "execution_count": 4,
      "outputs": []
    },
    {
      "cell_type": "markdown",
      "metadata": {
        "id": "lR3s8d5Y_jJo"
      },
      "source": [
        "Свинец"
      ]
    },
    {
      "cell_type": "code",
      "metadata": {
        "id": "S7b7HQ6NE8yR"
      },
      "source": [
        "npb = np.array([632665, 356220, 209448, 118688, 76056])\n",
        "lpb = np.array([0.42, 0.89, 1.35, 1.83, 2.27])"
      ],
      "execution_count": 5,
      "outputs": []
    },
    {
      "cell_type": "markdown",
      "metadata": {
        "id": "qx9_ibKz_j4N"
      },
      "source": [
        "Железо"
      ]
    },
    {
      "cell_type": "code",
      "metadata": {
        "id": "M3honlbEC3ro"
      },
      "source": [
        "ni = np.array([563352, 291976,162010,90122, 51017])\n",
        "li = np.array([1, 2.01, 3.015, 4.035, 5.035])"
      ],
      "execution_count": 6,
      "outputs": []
    },
    {
      "cell_type": "markdown",
      "metadata": {
        "id": "dVOmcsPmf1hr"
      },
      "source": [
        "Объединение всех одинаковых по смыслу массивов в один массив для использования циклов"
      ]
    },
    {
      "cell_type": "code",
      "metadata": {
        "id": "HbYfQeamgBMh"
      },
      "source": [
        "n = [na, npb, ni]\n",
        "l = [la, lpb, li]"
      ],
      "execution_count": 7,
      "outputs": []
    },
    {
      "cell_type": "markdown",
      "metadata": {
        "id": "6qUnDsdbdVS_"
      },
      "source": [
        "Погрешности"
      ]
    },
    {
      "cell_type": "code",
      "metadata": {
        "colab": {
          "base_uri": "https://localhost:8080/"
        },
        "id": "mHHgNKjcdW3o",
        "outputId": "15f72607-ff23-46a3-fee7-744217c0ee81"
      },
      "source": [
        "sigman0 = np.sqrt(N)\n",
        "epsn0 = sigman0/N\n",
        "sigmamat = []\n",
        "epsmat = []\n",
        "newn = []\n",
        "for material in n:\n",
        "  sigma = np.sqrt(material)\n",
        "  sigmamat.append(sigma)\n",
        "  epsmat.append(sigma/material)\n",
        "  newn.append(material - N/Tbg)\n",
        "sigmamat = np.array(sigmamat)\n",
        "epsmat = np.array(epsmat)\n",
        "newn = np.array(newn)\n",
        "# В цикле сгенерился массив погрешностей отсчетов, относительных погрещностей отсчетов и массив N-N_0, где N_0 - число отсчетов фона\n",
        "epsn = []\n",
        "print(epsmat)\n",
        "for eps in epsmat:\n",
        "  epsn.append(np.sqrt(eps**2+epsn0**2))\n",
        "epsn = np.array(epsn)\n",
        "sigman = epsn*newn #Массив абсолютных погрешностей n_n0\n",
        "print(epsn)\n",
        "print(sigman)\n",
        "deltal = 0.005\n"
      ],
      "execution_count": 8,
      "outputs": [
        {
          "output_type": "stream",
          "name": "stdout",
          "text": [
            "[[0.00125475 0.0015791  0.00195862 0.00241006 0.00296843]\n",
            " [0.00125723 0.00167549 0.00218505 0.00290266 0.00362605]\n",
            " [0.00133232 0.00185066 0.00248444 0.00333108 0.00442734]]\n",
            "[[0.01007841 0.01012391 0.01019001 0.01028632 0.01043128]\n",
            " [0.01007872 0.01013939 0.01023594 0.01041275 0.01063711]\n",
            " [0.01008836 0.01016981 0.010304   0.01054021 0.01093624]]\n",
            "[[6401.34197741 4059.91882116 2656.14533989 1770.81901235 1183.6875061 ]\n",
            " [6376.33120777 3611.73043342 2143.77235239 1235.74214933  808.88682358]\n",
            " [5683.17718264 2969.21518978 1669.22586853  949.77660654  557.80086587]]\n"
          ]
        }
      ]
    },
    {
      "cell_type": "markdown",
      "metadata": {
        "id": "JNA0zD-GdANB"
      },
      "source": [
        "Графики:"
      ]
    },
    {
      "cell_type": "markdown",
      "metadata": {
        "id": "uFlR24lwCDew"
      },
      "source": [
        "Погрешности, как мы видим, довольно маленькие у нас, так что хи-квадрат использовать смысла немного, фитировать будем с помощью МНК"
      ]
    },
    {
      "cell_type": "code",
      "metadata": {
        "colab": {
          "base_uri": "https://localhost:8080/",
          "height": 917
        },
        "id": "K_jLD8bSdFRQ",
        "outputId": "84fb4660-8b61-4174-9df5-967bed4f89f6"
      },
      "source": [
        "materials = ['Алюминий', 'Свинец', 'Железо']\n",
        "fits = []\n",
        "for i in range(0,3):\n",
        "  fits.append(np.polyfit(l[i], np.log(newn[i]), 1, cov=True))\n",
        "print(fits)\n",
        "for i in range(0,3):\n",
        "  plt.title(materials[i])\n",
        "  plt.xlabel('Длина, см')\n",
        "  plt.ylabel('Количество отсчетов')\n",
        "  plt.grid()\n",
        "  plt.plot(l[i], np.log(newn[i]), linestyle='', marker='x')\n",
        "  border = np.max(l[i])\n",
        "  x = np.arange(0, border+1, 0.01)\n",
        "  plt.plot(x, fits[i][0][0]*x+fits[i][0][1])\n",
        "  plt.show()\n",
        "  \n"
      ],
      "execution_count": 9,
      "outputs": [
        {
          "output_type": "stream",
          "name": "stdout",
          "text": [
            "[(array([-0.2145012 , 13.76997406]), array([[ 8.19750429e-06, -4.90702607e-05],\n",
            "       [-4.90702607e-05,  3.59315139e-04]])), (array([-1.15045147, 13.81867742]), array([[ 0.00041414, -0.00055991],\n",
            "       [-0.00055991,  0.00093535]])), (array([-0.59232665, 13.80219846]), array([[ 8.49394720e-05, -2.56432266e-04],\n",
            "       [-2.56432266e-04,  9.47292133e-04]]))]\n"
          ]
        },
        {
          "output_type": "display_data",
          "data": {
            "image/png": "[encoded data removed]",
            "text/plain": [
              "<Figure size 432x288 with 1 Axes>"
            ]
          },
          "metadata": {
            "needs_background": "light"
          }
        },
        {
          "output_type": "display_data",
          "data": {
            "image/png": "[encoded data removed]",
            "text/plain": [
              "<Figure size 432x288 with 1 Axes>"
            ]
          },
          "metadata": {
            "needs_background": "light"
          }
        },
        {
          "output_type": "display_data",
          "data": {
            "image/png": "[encoded data removed]",
            "text/plain": [
              "<Figure size 432x288 with 1 Axes>"
            ]
          },
          "metadata": {
            "needs_background": "light"
          }
        }
      ]
    },
    {
      "cell_type": "markdown",
      "metadata": {
        "id": "MrcED8ysGqyl"
      },
      "source": [
        "Результат: (поезд сделал бум)\n"
      ]
    },
    {
      "cell_type": "code",
      "metadata": {
        "id": "3gD_KD-JwBdr",
        "colab": {
          "base_uri": "https://localhost:8080/"
        },
        "outputId": "2740bf84-de04-4c3d-fbc4-2ebe133f97b2"
      },
      "source": [
        "print('Коэффициенты поглощения:\\n')\n",
        "print(f'Алюминия: {-fits[0][0][0]:.3} \\u00B1 {np.sqrt(fits[0][1][0][0]):.1}', end='\\n')\n",
        "print(f'Свинца: {-fits[1][0][0]:.3} \\u00B1 {np.sqrt(fits[1][1][0][0]):.2}', end='\\n')\n",
        "print(f'Железа: {-fits[2][0][0]:.3} \\u00B1 {np.sqrt(fits[2][1][0][0]):.1}', end='\\n')"
      ],
      "execution_count": 14,
      "outputs": [
        {
          "output_type": "stream",
          "name": "stdout",
          "text": [
            "Коэффициенты поглощения:\n",
            "\n",
            "Алюминия: 0.215 ± 0.003\n",
            "Свинца: 1.15 ± 0.02\n",
            "Железа: 0.592 ± 0.009\n"
          ]
        }
      ]
    }
  ]
}