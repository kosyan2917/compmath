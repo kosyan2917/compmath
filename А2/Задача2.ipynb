{
 "cells": [
  {
   "cell_type": "code",
   "execution_count": 65,
   "id": "96430f4c",
   "metadata": {},
   "outputs": [],
   "source": [
    "import seaborn as sns\n",
    "import numpy as np\n",
    "import pandas as pd\n",
    "import matplotlib.pyplot as plt"
   ]
  },
  {
   "cell_type": "code",
   "execution_count": 41,
   "id": "0eee7135",
   "metadata": {},
   "outputs": [],
   "source": [
    "to_roman = {1:'I', 2:'II', 3:'III', 4:'IV'}\n",
    "data = sns.load_dataset('anscombe')\n",
    "x1 = data.loc[(data['dataset']=='I')]['x'].to_numpy()\n",
    "x2 = data.loc[(data['dataset']=='II')]['x'].to_numpy()\n",
    "x3 = data.loc[(data['dataset']=='III')]['x'].to_numpy()\n",
    "x4 = data.loc[(data['dataset']=='IV')]['x'].to_numpy()\n",
    "y1 = data.loc[(data['dataset']=='I')]['y'].to_numpy()\n",
    "y2 = data.loc[(data['dataset']=='II')]['y'].to_numpy()\n",
    "y3 = data.loc[(data['dataset']=='III')]['y'].to_numpy()\n",
    "y4 = data.loc[(data['dataset']=='IV')]['y'].to_numpy()"
   ]
  },
  {
   "cell_type": "code",
   "execution_count": 43,
   "id": "afd9389b",
   "metadata": {},
   "outputs": [],
   "source": [
    "dx1 = np.var(x1)\n",
    "dx2 = np.var(x2)\n",
    "dx3 = np.var(x3)\n",
    "dx4 = np.var(x4)\n",
    "dy1 = np.var(y1)\n",
    "dy2 = np.var(y2)\n",
    "dy3 = np.var(y3)\n",
    "dy4 = np.var(y4)"
   ]
  },
  {
   "cell_type": "code",
   "execution_count": 70,
   "id": "50aacb5d",
   "metadata": {},
   "outputs": [],
   "source": [
    "corcof1 = np.corrcoef(np.vstack((x1,y1)))\n",
    "corcof2 = np.corrcoef(x2,y2)\n",
    "corcof3 = np.corrcoef(x3,y3)\n",
    "corcof4 = np.corrcoef(x4,y4)"
   ]
  },
  {
   "cell_type": "code",
   "execution_count": 69,
   "id": "abdbb08d",
   "metadata": {},
   "outputs": [
    {
     "name": "stdout",
     "output_type": "stream",
     "text": [
      "  Выборка     X         Y  Корреляция\n",
      "0       I  10.0  3.752063    0.816421\n",
      "1      II  10.0  3.752390    0.816237\n",
      "2     III  10.0  3.747836    0.816287\n",
      "3      IV  10.0  3.748408    0.816521\n"
     ]
    }
   ],
   "source": [
    "to_dataframe = {'Выборка': ['I','II','III','IV'], 'X': [dx1,dx2,dx3,dx4], 'Y':[dy1,dy2,dy3,dy4], \n",
    "                'Корреляция': [corcof1[0][1],corcof2[0][1],corcof3[0][1],corcof4[0][1]]}\n",
    "var = pd.DataFrame(to_dataframe)\n",
    "print(var)"
   ]
  },
  {
   "cell_type": "code",
   "execution_count": 68,
   "id": "a2311d9e",
   "metadata": {},
   "outputs": [
    {
     "data": {
      "image/png": "[encoded data removed]",
      "text/plain": [
       "<Figure size 432x288 with 1 Axes>"
      ]
     },
     "metadata": {
      "needs_background": "light"
     },
     "output_type": "display_data"
    },
    {
     "data": {
      "image/png": "[encoded data removed]",
      "text/plain": [
       "<Figure size 432x288 with 1 Axes>"
      ]
     },
     "metadata": {
      "needs_background": "light"
     },
     "output_type": "display_data"
    },
    {
     "data": {
      "image/png": "[encoded data removed]",
      "text/plain": [
       "<Figure size 432x288 with 1 Axes>"
      ]
     },
     "metadata": {
      "needs_background": "light"
     },
     "output_type": "display_data"
    },
    {
     "data": {
      "image/png": "[encoded data removed]",
      "text/plain": [
       "<Figure size 432x288 with 1 Axes>"
      ]
     },
     "metadata": {
      "needs_background": "light"
     },
     "output_type": "display_data"
    }
   ],
   "source": [
    "plt.plot(x1,y1,'ro')\n",
    "plt.show()\n",
    "plt.plot(x2,y2,'ro')\n",
    "plt.show()\n",
    "plt.plot(x3,y3, 'ro')\n",
    "plt.show()\n",
    "plt.plot(x4,y4, 'ro')\n",
    "plt.show()"
   ]
  }
 ],
 "metadata": {
  "kernelspec": {
   "display_name": "PyCharm (Laba1.1)",
   "language": "python",
   "name": "pycharm-16ae13ca"
  },
  "language_info": {
   "codemirror_mode": {
    "name": "ipython",
    "version": 3
   },
   "file_extension": ".py",
   "mimetype": "text/x-python",
   "name": "python",
   "nbconvert_exporter": "python",
   "pygments_lexer": "ipython3",
   "version": "3.9.6"
  }
 },
 "nbformat": 4,
 "nbformat_minor": 5
}
